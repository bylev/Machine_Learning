{
 "cells": [
  {
   "cell_type": "markdown",
   "metadata": {},
   "source": [
    "# PERCEPTRON IMPLEMENTATION\n",
    "\n",
    "*Loss function*\n",
    "\n",
    "The standard perceptron algorithm is a binary classification algorithm used for ***supervised learning***. It is used to find linear decision boundary that can separate two classes of data. The perceptron uses a loss function called the ***hinge loss*** function. "
   ]
  },
  {
   "cell_type": "markdown",
   "metadata": {},
   "source": [
    "# IMPLEMENTATION CODE + PSEUDOCODE"
   ]
  },
  {
   "cell_type": "code",
   "execution_count": 5,
   "metadata": {},
   "outputs": [],
   "source": [
    "import numpy as np\n",
    "import matplotlib.pyplot as plt\n",
    "\n",
    "# Data frame \n",
    "X = np.array([[2, 3], [3, 4], [5, 7], [6, 8], [2, 6], [7, 6]])\n",
    "y = np.array([0, 0, 1, 1, 0, 1])\n",
    "\n",
    "# Weight and bias\n",
    "np.random.seed(0)\n",
    "w = np.random.rand(2)\n",
    "b = np.random.rand(1)\n",
    "\n",
    "# Learning rate\n",
    "learning_rate = 0.1\n",
    "\n",
    "# Activation function\n",
    "def step_function(x):\n",
    "    return 1 if x > 0 else 0\n",
    "\n",
    "#Training\n",
    "epochs = 100\n",
    "for epoch in range(epochs):\n",
    "    for i in range(len(X)):\n",
    "        z = np.dot(X[i], w) + b\n",
    "        prediction = step_function(z)\n",
    "        error = y[i] - prediction\n",
    "        w += learning_rate * error * X[i]\n",
    "        b += learning_rate * error"
   ]
  },
  {
   "cell_type": "code",
   "execution_count": 7,
   "metadata": {},
   "outputs": [
    {
     "data": {
      "image/png": "[encoded data removed]",
      "text/plain": [
       "<Figure size 640x480 with 1 Axes>"
      ]
     },
     "metadata": {},
     "output_type": "display_data"
    },
    {
     "name": "stdout",
     "output_type": "stream",
     "text": [
      "The features [4 5] correspond to a sick person.\n",
      "The features [1 2] correspond to a not sick person.\n",
      "The features [7 7] correspond to a sick person.\n"
     ]
    }
   ],
   "source": [
    "# Visualization\n",
    "plt.scatter(X[:, 0], X[:, 1], c=y)\n",
    "plt.xlabel('Feature1')\n",
    "plt.ylabel('Feature2')\n",
    "\n",
    "x_line = np.linspace(0, 8, 100) \n",
    "y_line = (-w[0] / w[1]) * x_line - (b / w[1])\n",
    "plt.plot(x_line, y_line, 'r--')\n",
    "plt.show()\n",
    "\n",
    "# Classification of new data\n",
    "new_data = np.array([[4, 5], [1, 2], [7, 7]])\n",
    "for point in new_data:\n",
    "    z = np.dot(point, w) + b\n",
    "    prediction = step_function(z)\n",
    "    if prediction == 0:\n",
    "        print(f\"The features\", point, \"correspond to a not sick person.\")\n",
    "    else:\n",
    "        print(f\"The features\", point, \"correspond to a sick person.\")"
   ]
  },
  {
   "cell_type": "markdown",
   "metadata": {},
   "source": [
    "*Import the necessary libraries*\n",
    "\n",
    "import numpy as np\n",
    "import matplotlib.pyplot as plt\n",
    "\n",
    "*Define the training data (features) and labels (0: not sick, 1: sick)*\n",
    "\n",
    "X = [[2, 3], [3, 4], [5, 7], [6, 8], [2, 6], [7, 6]]\n",
    "y = [0, 0, 1, 1, 0, 1]\n",
    "\n",
    "*Initialize weights and bias*\n",
    "\n",
    "Initialize random values for w (weights) and b (bias)\n",
    "\n",
    "*Set the learning rate*\n",
    "\n",
    "learning_rate = 0.1\n",
    "\n",
    "*Define the step activation *function*\n",
    "\n",
    "function step_function(x):\n",
    "    if x > 0:\n",
    "        return 1\n",
    "    else:\n",
    "        return 0\n",
    "\n",
    "*Train the perceptron*\n",
    "\n",
    "epochs = 100\n",
    "for each epoch in range(epochs):\n",
    "    for each data point in X:\n",
    "        # Calculate the weighted sum and apply the step activation function\n",
    "        z = dot_product(X[i], w) + b\n",
    "        prediction = step_function(z)\n",
    "\n",
    "        # Calculate the error\n",
    "        error = y[i] - prediction\n",
    "\n",
    "        # Update the weights and bias\n",
    "        w = w + learning_rate * error * X[i]\n",
    "        b = b + learning_rate * error\n",
    "\n",
    "*Visualize the data and the decision boundary*\n",
    "\n",
    "scatter plot of X[:, 0] vs. X[:, 1] with different colors for labels\n",
    "Set labels for x and y axes\n",
    "Generate x_line points\n",
    "Calculate y_line as the decision boundary\n",
    "Plot the decision boundary in red dashed line\n",
    "Show the plot\n",
    "\n",
    "*Classify new data points*\n",
    "\n",
    "new_data = [[4, 5], [1, 2], [7, 7]]\n",
    "for each data point in new_data:\n",
    "    # Calculate the weighted sum and apply the step activation function\n",
    "    z = dot_product(point, w) + b\n",
    "    prediction = step_function(z)\n",
    "\n",
    "    if prediction == 0:\n",
    "        print(\"The features\", point, \"correspond to a not sick person.\")\n",
    "    else:\n",
    "        print(\"The features\", point, \"correspond to a sick person.\")\n"
   ]
  },
  {
   "cell_type": "markdown",
   "metadata": {},
   "source": [
    "***Optimization Function***\n",
    "\n",
    "In perceptrons, **the gradient descent method** is used to learn the weights. The gradient descent is an optimization method that finds the minimum of an objective function by incrementally updating its parameters in the negative direction of the derivative of this function. ρ is called the learning rate."
   ]
  },
  {
   "cell_type": "markdown",
   "metadata": {},
   "source": [
    "**References**\n",
    "Ghodsi, A., & Perceptron, A. F. (n.d.). Uwaterloo.Ca. Retrieved 24 October 2023, from https://sas.uwaterloo.ca/~aghodsib/courses/f07stat841/notes/lecture10.pdf"
   ]
  }
 ],
 "metadata": {
  "kernelspec": {
   "display_name": "Python 3",
   "language": "python",
   "name": "python3"
  },
  "language_info": {
   "codemirror_mode": {
    "name": "ipython",
    "version": 3
   },
   "file_extension": ".py",
   "mimetype": "text/x-python",
   "name": "python",
   "nbconvert_exporter": "python",
   "pygments_lexer": "ipython3",
   "version": "3.11.3"
  }
 },
 "nbformat": 4,
 "nbformat_minor": 2
}
